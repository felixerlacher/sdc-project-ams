{
 "cells": [
  {
   "cell_type": "code",
   "execution_count": null,
   "metadata": {},
   "outputs": [],
   "source": [
    "import os\n",
    "from selenium import webdriver\n",
    "from selenium.webdriver.common.by import By\n",
    "from selenium.webdriver.support.ui import WebDriverWait\n",
    "from selenium.webdriver.support import expected_conditions as EC\n",
    "from bs4 import BeautifulSoup\n",
    "from urllib.parse import urljoin, urlparse\n",
    "\n",
    "def get_driver():\n",
    "    \"\"\"Create a Selenium WebDriver.\"\"\"\n",
    "    options = webdriver.ChromeOptions()\n",
    "    options.add_argument('headless')\n",
    "    return webdriver.Chrome(options=options)\n",
    "\n",
    "def accept_cookies(driver):\n",
    "    \"\"\"Clicks the 'Einverstanden' button on the cookie banner if present.\"\"\"\n",
    "    try:\n",
    "        WebDriverWait(driver, 10).until(\n",
    "            EC.presence_of_element_located((By.XPATH, \"//button[contains(text(), 'Einverstanden')]\"))\n",
    "        )\n",
    "        cookie_button = driver.find_element(By.XPATH, \"//button[contains(text(), 'Einverstanden')]\")\n",
    "        cookie_button.click()\n",
    "        print(\"Cookie banner accepted.\")\n",
    "    except Exception as e:\n",
    "        print(f\"Cookie banner not found or error occurred: {e}\")\n",
    "\n",
    "def get_links(driver, url, visited):\n",
    "    \"\"\"Fetches all unique links on a given webpage using Selenium\"\"\"\n",
    "    try:\n",
    "        driver.get(url)\n",
    "        soup = BeautifulSoup(driver.page_source, 'html.parser')\n",
    "        links = set()\n",
    "        for link in soup.find_all('a', href=True):\n",
    "            full_link = urljoin(url, link['href'])\n",
    "            if urlparse(full_link).netloc == urlparse(url).netloc and full_link not in visited:\n",
    "                links.add(full_link)\n",
    "        return links\n",
    "    except Exception as e:\n",
    "        print(f\"Error fetching {url}: {e}\")\n",
    "        return set()\n",
    "\n",
    "def save_content(driver, url, folder):\n",
    "    \"\"\"Saves the content of a URL to a file in the specified folder, skips PDF and JPEG\"\"\"\n",
    "    try:\n",
    "        driver.get(url)\n",
    "        content_type = driver.execute_script(\"return document.contentType\")\n",
    "        if 'text/html' in content_type:\n",
    "            filename = os.path.join(folder, 'index.html')\n",
    "            with open(filename, 'w', encoding='utf-8') as file:\n",
    "                file.write(driver.page_source)\n",
    "            print(f\"Content saved from {url}\")\n",
    "        else:\n",
    "            print(f\"Skipped non-text content (PDF or JPEG) from {url}\")\n",
    "    except Exception as e:\n",
    "        print(f\"Error saving content from {url}: {e}\")\n",
    "\n",
    "def crawl(driver, url, base_dir, visited):\n",
    "    if url in visited:\n",
    "        return\n",
    "    visited.add(url)\n",
    "\n",
    "    links = get_links(driver, url, visited)\n",
    "    for link in links:\n",
    "        parsed_link = urlparse(link)\n",
    "        folder_path = os.path.join(base_dir, parsed_link.netloc + parsed_link.path.strip('/'))\n",
    "        os.makedirs(folder_path, exist_ok=True)\n",
    "        save_content(driver, link, folder_path)\n",
    "        crawl(driver, link, base_dir, visited)\n",
    "\n",
    "def main(url, base_dir):\n",
    "    driver = get_driver()\n",
    "    visited = set()\n",
    "    # Accept cookies on the first page\n",
    "    accept_cookies(driver)\n",
    "    crawl(driver, url, base_dir, visited)\n",
    "    driver.quit()\n",
    "\n",
    "if __name__ == \"__main__\":\n",
    "    base_url = 'https://www.ams.at/arbeitsuchende/'  # Change to your target URL\n",
    "    base_directory = 'ams_content'  # Change to your preferred directory\n",
    "    main(base_url, base_directory)\n"
   ]
  },
  {
   "cell_type": "code",
   "execution_count": 37,
   "metadata": {},
   "outputs": [
    {
     "data": {
      "text/plain": [
       "350"
      ]
     },
     "execution_count": 37,
     "metadata": {},
     "output_type": "execute_result"
    }
   ],
   "source": [
    "from langchain.document_loaders import BSHTMLLoader, DirectoryLoader\n",
    "\n",
    "loader = DirectoryLoader('./ams_content', loader_cls=BSHTMLLoader)\n",
    "\n",
    "docs = loader.load()\n",
    "len(docs)"
   ]
  },
  {
   "cell_type": "code",
   "execution_count": 38,
   "metadata": {},
   "outputs": [
    {
     "data": {
      "text/plain": [
       "'cl100k_base'"
      ]
     },
     "execution_count": 38,
     "metadata": {},
     "output_type": "execute_result"
    }
   ],
   "source": [
    "docs[10].page_content\n",
    "\n",
    "import tiktoken\n",
    "\n",
    "tokenizer_name = tiktoken.encoding_for_model('gpt-4')\n",
    "tokenizer_name.name"
   ]
  },
  {
   "cell_type": "code",
   "execution_count": 39,
   "metadata": {},
   "outputs": [],
   "source": [
    "tokenizer = tiktoken.get_encoding(tokenizer_name.name)\n",
    "\n",
    "# create the length function\n",
    "def tiktoken_len(text):\n",
    "    tokens = tokenizer.encode(\n",
    "        text,\n",
    "        disallowed_special=()\n",
    "    )\n",
    "    return len(tokens)"
   ]
  },
  {
   "cell_type": "code",
   "execution_count": 40,
   "metadata": {},
   "outputs": [],
   "source": [
    "from langchain.text_splitter import RecursiveCharacterTextSplitter\n",
    "\n",
    "text_splitter = RecursiveCharacterTextSplitter(\n",
    "    chunk_size=400,\n",
    "    chunk_overlap=20,\n",
    "    length_function=tiktoken_len,\n",
    "    separators=[\"/n/n\", \"/n\", \" \", \"\"]\n",
    ")\n",
    "\n",
    "import re\n",
    "\n",
    "def preprocess_text(text):\n",
    "    # Replace multiple newline characters with a single newline\n",
    "    text = re.sub(r'/n{1,}', ' ', text)\n",
    "    text = re.sub(r'/t{1,}', ' ', text)\n",
    "    text = re.sub(r'/xa0{1,}', ' ', text)\n",
    "    #remove space that is more thgan one\n",
    "    text = re.sub(r' {1,}', ' ', text)\n",
    "    return text"
   ]
  },
  {
   "cell_type": "code",
   "execution_count": 41,
   "metadata": {},
   "outputs": [
    {
     "name": "stderr",
     "output_type": "stream",
     "text": [
      "  3%|▎         | 10/350 [00:00<00:03, 94.69it/s]"
     ]
    },
    {
     "name": "stderr",
     "output_type": "stream",
     "text": [
      "100%|██████████| 350/350 [00:04<00:00, 79.02it/s] \n"
     ]
    }
   ],
   "source": [
    "from typing_extensions import Concatenate\n",
    "from uuid import uuid4\n",
    "from tqdm.auto import tqdm\n",
    "\n",
    "chunks = []\n",
    "\n",
    "for idx, page in enumerate(tqdm(docs)):\n",
    "    content = preprocess_text(page.page_content)\n",
    "    if len(content) > 100:\n",
    "        url = page.metadata['source'].replace('rtdocs/', 'https://')\n",
    "        texts = text_splitter.split_text(content)\n",
    "        chunks.extend([{\n",
    "            'id': str(uuid4()),\n",
    "            'text': texts[i],\n",
    "            'chunk': i,\n",
    "            'url': url\n",
    "        } for i in range(len(texts))])"
   ]
  },
  {
   "cell_type": "code",
   "execution_count": 42,
   "metadata": {},
   "outputs": [
    {
     "name": "stdout",
     "output_type": "stream",
     "text": [
      "Created 3806 chunks\n"
     ]
    },
    {
     "data": {
      "text/plain": [
       "{'id': 'e3ef59be-7153-4575-a55b-6cd39757b1a4',\n",
       " 'text': 'per Telefon klären) eAMS-Konto für Arbeitsuchende eService Zone Arbeitslos melden Krankheit, Umzug oder Ende der Arbeitslosigkeit melden Arbeitslosengeld Informationen über Berufe Lehrstellenbörse eAMS-Konto für Arbeitsuchende - Login Suchen Sie die Adresse oder die Telefonnummer Ihrer AMS Geschäftsstelle? Geschäftsstellen finden Suchen Sie ein bestimmtes Formular? Dokument finden Neuigkeiten vom Arbeitsmarkt ARBEITSMARKT BURGENLAND, DEZEMBER 2023 Ab 1.1.2024: AMS Stegersbach/Jennersdorf – Zusammenführung zu einer regionalen Geschäftsstelle in Stegersbach ARBEITSMARKT BURGENLAND, AUGUST 2023 Leichter Anstieg der Arbeitslosigkeit, mehr Lehrstellensuchende als offene Lehrstellen ARBEITSMARKT BURGENLAND, JUNI 2023 Weitere Neuigkeiten Neuigkeiten vom Arbeitsmarkt Der Kärntner Arbeitsmarkt im Dezember 2023 Der Kärntner Arbeitsmarkt im November 2023 Der Kärntner Arbeitsmarkt im Oktober 2023 Der Kärntner Arbeitsmarkt im September 2023 AMS Digital Lounges 2023 Weitere Neuigkeiten Neuigkeiten vom Arbeitsmarkt Aktuelles vom niederösterreichischen Arbeitsmarkt - Dezember 2023 Aktuelles vom niederösterreichischen Arbeitsmarkt - November 2023 2. Lehrstellen-Casting des AMS St. Pölten Aktuelles vom niederösterreichischen Arbeitsmarkt - Oktober 2023 Aktuelles vom niederösterreichischen Arbeitsmarkt - September 2023 Weitere Neuigkeiten Neuigkeiten vom Arbeitsmarkt Arbeitsmarkt Oberösterreich im Dezember 2023 Arbeitsmarkt Oberösterreich im November 2023 Arbeitsmarkt Oberösterreich Oktober 2023 Arbeitsmarkt',\n",
       " 'chunk': 1,\n",
       " 'url': 'ams_content\\\\www.ams.at\\\\index.html'}"
      ]
     },
     "execution_count": 42,
     "metadata": {},
     "output_type": "execute_result"
    }
   ],
   "source": [
    "print(f\"Created {len(chunks)} chunks\")\n",
    "chunks[1]"
   ]
  },
  {
   "cell_type": "code",
   "execution_count": 45,
   "metadata": {},
   "outputs": [],
   "source": [
    "#create on text file with all chunks\n",
    "with open('ams_chunks.txt', 'w', encoding='utf-8') as file:\n",
    "    for chunk in chunks:\n",
    "        file.write(chunk['text'] + '\\n')"
   ]
  },
  {
   "cell_type": "code",
   "execution_count": 46,
   "metadata": {},
   "outputs": [],
   "source": [
    "def remove_duplicates(file_path):\n",
    "    with open(file_path, 'r') as file:\n",
    "        lines = file.readlines()\n",
    "\n",
    "    # Counting occurrences of each line\n",
    "    line_count = {}\n",
    "    for line in lines:\n",
    "        if line in line_count:\n",
    "            line_count[line] += 1\n",
    "        else:\n",
    "            line_count[line] = 1\n",
    "\n",
    "    # Writing back only unique lines (those that occur once)\n",
    "    with open(file_path, 'w') as file:\n",
    "        for line, count in line_count.items():\n",
    "            if count == 1:\n",
    "                file.write(line)\n",
    "\n",
    "# Example usage\n",
    "file_path = 'ams_chunks.txt'\n",
    "remove_duplicates(file_path)\n"
   ]
  },
  {
   "cell_type": "code",
   "execution_count": 10,
   "metadata": {},
   "outputs": [
    {
     "ename": "ModuleNotFoundError",
     "evalue": "No module named 'langchain.document'",
     "output_type": "error",
     "traceback": [
      "\u001b[1;31m---------------------------------------------------------------------------\u001b[0m",
      "\u001b[1;31mModuleNotFoundError\u001b[0m                       Traceback (most recent call last)",
      "Cell \u001b[1;32mIn[10], line 6\u001b[0m\n\u001b[0;32m      4\u001b[0m \u001b[38;5;28;01mimport\u001b[39;00m \u001b[38;5;21;01mos\u001b[39;00m\n\u001b[0;32m      5\u001b[0m \u001b[38;5;28;01mfrom\u001b[39;00m \u001b[38;5;21;01mbs4\u001b[39;00m \u001b[38;5;28;01mimport\u001b[39;00m BeautifulSoup\n\u001b[1;32m----> 6\u001b[0m \u001b[38;5;28;01mfrom\u001b[39;00m \u001b[38;5;21;01mlangchain\u001b[39;00m\u001b[38;5;21;01m.\u001b[39;00m\u001b[38;5;21;01mdocument\u001b[39;00m \u001b[38;5;28;01mimport\u001b[39;00m Document\n\u001b[0;32m      8\u001b[0m \u001b[38;5;28;01mdef\u001b[39;00m \u001b[38;5;21mread_doc_from_html\u001b[39m(path):\n\u001b[0;32m      9\u001b[0m     \u001b[38;5;28;01mwith\u001b[39;00m \u001b[38;5;28mopen\u001b[39m(path, \u001b[38;5;124m'\u001b[39m\u001b[38;5;124mr\u001b[39m\u001b[38;5;124m'\u001b[39m, encoding\u001b[38;5;241m=\u001b[39m\u001b[38;5;124m'\u001b[39m\u001b[38;5;124mutf-8\u001b[39m\u001b[38;5;124m'\u001b[39m) \u001b[38;5;28;01mas\u001b[39;00m file:\n",
      "\u001b[1;31mModuleNotFoundError\u001b[0m: No module named 'langchain.document'"
     ]
    }
   ],
   "source": []
  }
 ],
 "metadata": {
  "kernelspec": {
   "display_name": "solution",
   "language": "python",
   "name": "python3"
  },
  "language_info": {
   "codemirror_mode": {
    "name": "ipython",
    "version": 3
   },
   "file_extension": ".py",
   "mimetype": "text/x-python",
   "name": "python",
   "nbconvert_exporter": "python",
   "pygments_lexer": "ipython3",
   "version": "3.11.7"
  }
 },
 "nbformat": 4,
 "nbformat_minor": 2
}
