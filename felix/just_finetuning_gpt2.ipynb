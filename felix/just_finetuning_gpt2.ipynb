{
 "cells": [
  {
   "cell_type": "markdown",
   "metadata": {},
   "source": [
    "# Create Dataset for training"
   ]
  },
  {
   "cell_type": "code",
   "execution_count": 1,
   "metadata": {},
   "outputs": [
    {
     "name": "stderr",
     "output_type": "stream",
     "text": [
      "/home/felix/llm/ChatTable/new_env/lib/python3.10/site-packages/tqdm/auto.py:21: TqdmWarning: IProgress not found. Please update jupyter and ipywidgets. See https://ipywidgets.readthedocs.io/en/stable/user_install.html\n",
      "  from .autonotebook import tqdm as notebook_tqdm\n",
      "\u001b[34m\u001b[1mwandb\u001b[0m: Currently logged in as: \u001b[33mfelix-ml\u001b[0m (\u001b[33mfml-team\u001b[0m). Use \u001b[1m`wandb login --relogin`\u001b[0m to force relogin\n",
      "\u001b[34m\u001b[1mwandb\u001b[0m: \u001b[33mWARNING\u001b[0m If you're specifying your api key in code, ensure this code is not shared publicly.\n",
      "\u001b[34m\u001b[1mwandb\u001b[0m: \u001b[33mWARNING\u001b[0m Consider setting the WANDB_API_KEY environment variable, or running `wandb login` from the command line.\n",
      "\u001b[34m\u001b[1mwandb\u001b[0m: Appending key for api.wandb.ai to your netrc file: /home/felix/.netrc\n"
     ]
    },
    {
     "data": {
      "text/plain": [
       "True"
      ]
     },
     "execution_count": 1,
     "metadata": {},
     "output_type": "execute_result"
    }
   ],
   "source": [
    "from transformers import AutoTokenizer\n",
    "from datasets import load_dataset\n",
    "from transformers import AutoModelWithLMHead\n",
    "from transformers import Trainer, TrainingArguments\n",
    "import transformers\n",
    "transformers.set_seed(42)\n",
    "\n",
    "import wandb\n",
    "\n",
    "import os\n",
    "os.environ['CUDA_LAUNCH_BLOCKING'] = \"1\"\n",
    "os.environ['WANDB_NOTEBOOK_NAME'] = 'create_dataset.ipynb'\n",
    "wandb.login(key=\"247b3da94c9b88bd5e990f1d94799ca3ded57d6b\")"
   ]
  },
  {
   "cell_type": "code",
   "execution_count": 2,
   "metadata": {},
   "outputs": [],
   "source": [
    "# Specify the path to your JSON file\n",
    "file_path = 'berufslexikon_cleaned_manual.json'\n",
    "\n",
    "# Load the dataset\n",
    "ds = load_dataset('json', data_files=file_path)\n",
    "\n",
    "# Specify the model checkpoint\n",
    "model_checkpoint = \"dbmdz/german-gpt2\"\n",
    "\n",
    "# Load the tokenizer\n",
    "tokenizer = AutoTokenizer.from_pretrained(model_checkpoint)"
   ]
  },
  {
   "cell_type": "code",
   "execution_count": 3,
   "metadata": {},
   "outputs": [
    {
     "data": {
      "text/plain": [
       "{'content': '3D-DesignerIn \\n 3D-DesignerIn Berufsbereiche: Medien, Grafik, Design, Druck, Kunst, Kunsthandwerk Ausbildungsform: Uni/FH/PH Einstiegsgehalt lt. KV: Gehalt: € 2.210,- bis € 2.730,-  Tätigkeitsmerkmale 3D-DesignerInnen entwerfen, erstellen und programmieren komplexe, dreidimensionale digitale Objekte. Da sind z.B. Figuren für Videospiele und Filme, Grafiken, bewegte Bilder oder räumlich wirkende Darstellungen. Sie animieren auch Standbilder aus 3D-Scans. Außerdem programmieren sie interaktive 3D-Echtzeitgrafiken, zum Beispiel ein dreidimensionales Modell einer realen Szene (Virtuelle Realität).Digitale Objekte dienen zur Visualisierung in allen möglichen Bereichen wie Architektur, Raumplanung, Verkehr und Sport oder für die Visualisierung in technischen Bereichen. Die DesignerInnen nutzen 3D-Modeling-Software (z.B. AutoCad) und Simulationssoftware für interaktive 3D-Echtzeitgrafiken. Besondere Bedeutung hat die Visualisierung von Objekten auch für das E-Learning sowie für Orientierungssysteme, Modelabels und technische Dokumentationen.Typische Tätigkeiten sind z.B:Mitwirkung an der Entwicklung von Drehbüchern und StorylinesZeichnungen und Skizzen anfertigenModellieren von 3D-Objekten für Filme, Musikvideos oder ComputerspieleGestalten von Grafiken für Social Media KampagnenGestalten von 360-Grad-Videos für die Werbe- und SpielindustrieVisualisierung von Produkten für ProduktpräsentationenAnimieren von Figuren und ObjektenErstellen von virtuellen Räumen, Architektur- und Landschaftsvisualisierungen Siehe auch: MedieninformatikerIn (UNI/FH/PH) Industrial DesignerIn (UNI/FH/PH) Game DesignerIn (UNI/FH/PH) Anforderungen Eine innovative Ideenfindung und ein gewisses Maß an künstlerischer Begabung sind von Vorteil. Die Arbeiten erfolgen manchmal unter Zeitdruck, wobei KundInnen trotzdem eine detailorientierte Arbeit einfordern.Interesse an Technik: Bildverarbeitung, Audio- und VideotechnikBlick für DetailsGutes SehvermögenRasche AuffassungsgabeStrukturiertes ArbeitenRäumliches VorstellungsvermögenGutes Zeitmanagement\\xa0Je nach Branche sind auch andere Belange wichtig, etwa ein Interesse an Kunst, Kultur und Design (z.B. für Arbeiten in der Retail- oder Luxusgüter Industrie). Beschäftigungsmöglichkeiten 3D-DesignerInnen arbeiten in der Pre- und Postproduktion im Bereich Game Design (Storyboarding, Schnitt). Beschäftigungsmöglichkeiten eröffnen sich zum Teil in der Konsumgüterindustrie in einer Design-Abteilung oder im Umfeld der Marketing-Abteilung. Funktionales 3D-Design wird in fast jeder Branche angewandt, auch in den technischen Bereichen, in der Architektur, der Geoinformation und in der Unfallanalytik. Aufgabenfelder bestehen in den Unternehmen der unterschiedlichsten Branchen, z.B:Spezialisierte Design-BürosMultimedia-AgenturenSportartikehersteller: Markenlogos, WerbematerialGesundheitssektor: Animierte InfografikenIndustrie: Technische VisualisierungFahrzeugtechnik: Produkt-KonfiguratorenWerbebranche: Interaktive Werbeanzeigen, Online-WerbungSocial Media und Webdesign: Visuelle Konzepte für BlogsOnlinehandel: Interaktive ProduktpräsentationProduktdesign: Prototyp-VisualisierungArchitektur: Rundgänge, pysikalische Simulation von LichtMedizin: Funktionsweise von Werkzeugen verdeutlichenTourismus/Kultur: Interaktive Webkarten, virtuelle Museen Berufsaussichten Besondere Chancen zeichnen sich für die AbsolventInnen ab, die kombinierte Kenntnisse in Bezug auf Technik, Gestaltung und Organisation optimal einsetzen können. Vor allem ist die weltweite Nutzung von Virtual Reality (VR) stark gestiegen.Virtual Reality ist die blickpunktabhängige Echtzeitberechnung von 3D-Grafik (computergesteuerte Bilder in 3D). Das ermöglicht es, durch eine computergenerierte, künstliche räumliche Umgebung zu navigieren und mit dieser zu interagieren. Mit VR kann man z.B. üben, in einer Stresssituation eine Rede zu halten. Zum Unterschied von normaler Video-Technik werden für VR-Videos besondere Kameras benötigt, die aus verschiedensten Winkeln filmen. Im Unterschied dazu überlappt Augmented Reality (AR) das in der Wirklichkeit gesehene Bild oder Szene mit einer Simulation.Typische 3D-Anwendungen werden zunehmend auch in der Stadtplanung eingesetzt sowie in der Außen- und Innenarchitektur und Möbelausstattung. In der 3D-Realität können auch Veränderungen vorab visualisiert, analysiert und optimiert werden.3D-Design steht in Zusammenhang mit Game Design und spielt verstärkt auch bei Themen wie Business Communications oder Einsatzkräftetraining für Feuerwehren und Katastrophendienste eine Rolle. Aktuelles Update zu Berufsaussichten:   \"GrafikerIn\", dem der Beruf \"3D-DesignerIn\" zugeordnet ist. Ausbildung 3D-Design ist eine Kombination aus Kunst und Technik visuelles Design und Videobearbeitung. Eine Grundlage kann z.B. ein Studium im Bereich Game-Design, Grafikdesign (Motion Graphics), Multimedia Design oder Mediendesign bieten. Beispiele für Ausbildungen:Medieninformatik und Visual Computing (Bachelor): TU WienMedientechnik und –design (Bachelor): FH Oberösterreich Game Engineering und Simulation (Master): FH Technikum Wien Game Art & 3D Animation (Diploma): SAE Institute WienVisual Effects Animation (Bachelor with Honours): SAE Institute Wien Digital Art–Compositing (Master): Uni für Musik und darstellende Kunst, Wien Ergebnisse aus dem Ausbildungskompass: Kärnten Ausbildung Tabelle Universitätsstudium Game Studies and Engineering (öffnen)Masterstudium (UNI) Universität Klagenfurt - Alpen-Adria-Universität Klagenfurt (öffnen) 9020 Klagenfurt am Wörthersee, Universitätsstraße 65-67 Tel.: +43 463 2700, https://www.aau.at/ Niederösterreich Ausbildung Tabelle Fachhochschulstudium Creative Computing (öffnen)Bachelorstudium (FH) Fachhochschule St. Pölten GmbH (öffnen) 3100 St. Pölten, Campus-Platz 1 Tel.: +43 (0)2742 / 313 228 -200, https://www.fhstp.ac.at Ausbildung Tabelle Universitätsstudium Grafik- und Informationsdesign (öffnen)Bachelorstudium (UNI) New Design University Privatuniversität (öffnen) 3100 St. Pölten, Mariazeller Straße 97a Tel.: +43 (0)2742 / 851 24180, https://www.ndu.ac.at/ Ausbildung Tabelle Fachhochschulstudium Digital Media Production (öffnen)Masterstudium (FH) Fachhochschule St. Pölten GmbH (öffnen) 3100 St. Pölten, Campus-Platz 1 Tel.: +43 (0)2742 / 313 228 -200, https://www.fhstp.ac.at Ausbildung Tabelle Universitätsstudium Innenarchitektur & Visuelle Kommunikation (öffnen)Masterstudium (UNI) New Design University Privatuniversität (öffnen) 3100 St. Pölten, Mariazeller Straße 97a Tel.: +43 (0)2742 / 851 24180, https://www.ndu.ac.at/ Oberösterreich Ausbildung Tabelle Fachhochschulstudium Digital Arts (öffnen)Bachelorstudium (FH) Fachhochschule Oberösterreich - Informatik, Kommunikation, Medien - Campus Hagenberg (öffnen) 4232 Hagenberg, Softwarepark 11 Tel.: +43 (0)5 0804 20, Fax: +43 (0)5 0804 21599, https://www.fh-ooe.at/campus-hagenberg/ Ausbildung Tabelle Universitätsstudium Industrial Design (öffnen)Bachelorstudium (UNI) Kunstuniversität Linz (öffnen) 4010 Linz, Hauptplatz 6 Tel.: +43 (0)732 / 78 98 -0, https://www.ufg.at/ Ausbildung Tabelle Universitätsstudium Raum & Designstrategien (öffnen)Bachelorstudium (UNI) Kunstuniversität Linz (öffnen) 4010 Linz, Hauptplatz 6 Tel.: +43 (0)732 / 78 98 -0, https://www.ufg.at/ Ausbildung Tabelle Universitätsstudium Industrial Design (öffnen)Masterstudium (UNI) Kunstuniversität Linz (öffnen) 4010 Linz, Hauptplatz 6 Tel.: +43 (0)732 / 78 98 -0, https://www.ufg.at/ Ausbildung Tabelle Universitätsstudium Raum & Designstrategien (öffnen)Masterstudium (UNI) Kunstuniversität Linz (öffnen) 4010 Linz, Hauptplatz 6 Tel.: +43 (0)732 / 78 98 -0, https://www.ufg.at/ Ausbildung Tabelle Universitätsstudium Visuelle Kommunikation - Grafikdesign & Fotografie (öffnen)Masterstudium (UNI) Kunstuniversität Linz (öffnen) 4010 Linz, Hauptplatz 6 Tel.: +43 (0)732 / 78 98 -0, https://www.ufg.at/ Salzburg Ausbildung Tabelle Fachhochschulstudium Design & Produktmanagement (öffnen)Masterstudium (FH) FH Salzburg - Campus Kuchl (öffnen) 5431 Kuchl, Markt 136a Tel.: +43 / 50-2211-2000, Fax: +43 / 50-2211-2099, https://www.fh-salzburg.ac.at Ausbildung Tabelle Fachhochschulstudium Human-Computer Interaction (öffnen)Masterstudium (FH) FH Salzburg - Campus Urstein (öffnen) 5412 Puch/Salzburg, Urstein Süd 1 Tel.: +43 / 50-2211-0, https://www.fh-salzburg.ac.at/ Universität Salzburg - Paris Lodron Universität Salzburg (öffnen) 5020 Salzburg, Kapitelgasse 4-6 Tel.: +43 (0)662 / 80 44 -0, Fax: +43 (0)662 / 80 44 -145, https://www.plus.ac.at/ Ausbildung Tabelle Fachhochschulstudium Realtime Art & Visual Effects (öffnen)Masterstudium (FH) FH Salzburg - Campus Urstein (öffnen) 5412 Puch/Salzburg, Urstein Süd 1 Tel.: +43 / 50-2211-0, https://www.fh-salzburg.ac.at/ Steiermark Ausbildung Tabelle Fachhochschulstudium Industrial Design (öffnen)Bachelorstudium (FH) Fachhochschule Joanneum - Standort Graz (öffnen) 8020 Graz, Alte Poststraße 147, Weitere Adressen: Alte Poststraße 147, 149, 152 + 154; Eggenberger Allee 11 + 13; Eckertstraße 30i Tel.: +43 (0)316 / 54 53-8200, Fax: +43 (0)316 / 54 53-8201, https://www.fh-joanneum.at Ausbildung Tabelle Fachhochschulstudium Ausstellungsdesign (öffnen)Masterstudium (FH) Fachhochschule Joanneum - Standort Graz (öffnen) 8020 Graz, Alte Poststraße 147, Weitere Adressen: Alte Poststraße 147, 149, 152 + 154; Eggenberger Allee 11 + 13; Eckertstraße 30i Tel.: +43 (0)316 / 54 53-8200, Fax: +43 (0)316 / 54 53-8201, https://www.fh-joanneum.at Ausbildung Tabelle Fachhochschulstudium Industrial Design (öffnen)Masterstudium (FH) Fachhochschule Joanneum - Standort Graz (öffnen) 8020 Graz, Alte Poststraße 147, Weitere Adressen: Alte Poststraße 147, 149, 152 + 154; Eggenberger Allee 11 + 13; Eckertstraße 30i Tel.: +43 (0)316 / 54 53-8200, Fax: +43 (0)316 / 54 53-8201, https://www.fh-joanneum.at Wien Ausbildung Tabelle BA/BSc (Hons) Game Art Animation (öffnen)Bachelorstudium (UNI) SAE Institute Wien (öffnen) 1010 Wien, Hohenstaufengasse 6 Tel.: +43 (0)1 / 961 03 03, https://www.sae.edu/aut/ Ausbildung Tabelle BA/BSc (Hons) Visual Effects Animation (öffnen)Bachelorstudium (UNI) SAE Institute Wien (öffnen) 1010 Wien, Hohenstaufengasse 6 Tel.: +43 (0)1 / 961 03 03, https://www.sae.edu/aut/ Ausbildung Tabelle Game Art & 3D Animation Diploma (öffnen)Lehrgang SAE Institute Wien (öffnen) 1010 Wien, Hohenstaufengasse 6 Tel.: +43 (0)1 / 961 03 03, https://www.sae.edu/aut/ Ausbildung Tabelle Visual FX & 3D Animation Diploma (öffnen)Lehrgang SAE Institute Wien (öffnen) 1010 Wien, Hohenstaufengasse 6 Tel.: +43 (0)1 / 961 03 03, https://www.sae.edu/aut/ Weiterbildung Die Weiterbildungs- und Spezialisierungsmöglichkeiten sind grundsätzlich vielfältig und umfassen verschiedenste Bereiche wie E-Learning, Urheberrecht und Technologien für unterschiedliche Anwendungen, z.B:3D-ScantechnikUser Experience DesignDigital BrandingSocial Media MarketingMedia Copywriting (professionelles Verfassen von Werbetexten)360 Grad-Fotografie: Rundum-Blicke auf Produkte oder OrteMedienrecht3D-Modeling und Simulationssoftware\\xa03D-Modeling ist eine Mischung aus Geometrie und Design; es wird häufig genutzt, um Autounfälle zu analysieren, indem das Unfällgeschehen in der digitalen Welt nachstellt wird. Mehr Infos zu Weiterbildungen in der Weiterbildungsdatenbank Aufstieg und Selbstständigkeit Mit mehrjähriger beruflicher Erfahrung ist - je nach Unternehmensstruktur und Qualifikation - der Aufstieg in die Projektleitung oder als TesterIn, Level DesignerIn, ProducerIn, Studio Head oder Creative Director möglich.Es besteht die Möglichkeit zur selbstständigen Berufsausübung im Rahmen eines Gewerbes. Die aktuelle bundeseinheitliche Liste der freien Gewerbe sowie die Liste der reglementierten Gewerbe ist jeweils auf der Website des Bundesministeriums für Digitalisierung und Wirtschaftsstandort abrufbar. Nähere Infos bietet die Website der Wirtschaftskammer Österreich: WKO.  Diese Berufe könnten Sie auch interessieren  FotografIn BMS/BHS BildhauerIn BMS/BHS Kinoservicekraft Hilfs-/Anlernberufe BühnenarbeiterIn Hilfs-/Anlernberufe FilmvorführerIn Hilfs-/Anlernberufe BilleteurIn Hilfs-/Anlernberufe PromoterIn Hilfs-/Anlernberufe KunstmalerIn BMS/BHS Garderobier/Garderobiere Hilfs-/Anlernberufe BildhauerIn Lehre Weitere Berufe aus dem Bereich \"Medien, Grafik, Design, Druck, Kunst, Kunsthandwerk\" anzeigen  Kärnten Niederösterreich Oberösterreich Salzburg Steiermark Wien Ausbildungen nach Art: Masterstudium (UNI) Bachelorstudium (FH) Bachelorstudium (UNI) Masterstudium (FH) Lehrgang  ',\n",
       " 'profession': '3D-DesignerIn',\n",
       " 'url': 'https://www.berufslexikon.at/berufe/3049-3D-DesignerIn/'}"
      ]
     },
     "execution_count": 3,
     "metadata": {},
     "output_type": "execute_result"
    }
   ],
   "source": [
    "ds[\"train\"][1]"
   ]
  },
  {
   "cell_type": "code",
   "execution_count": 4,
   "metadata": {},
   "outputs": [
    {
     "name": "stdout",
     "output_type": "stream",
     "text": [
      "Total number of words in the dataset: 3473496\n"
     ]
    }
   ],
   "source": [
    "# count the number of words in the dataset\n",
    "total_words = 0\n",
    "for example in ds[\"train\"]:\n",
    "    total_words += len(example[\"profession\"].split())\n",
    "    total_words += len(example[\"content\"].split())\n",
    "print(f\"Total number of words in the dataset: {total_words}\")\n"
   ]
  },
  {
   "cell_type": "code",
   "execution_count": 5,
   "metadata": {},
   "outputs": [],
   "source": [
    "# As this dataset has no validation split, we will create one\n",
    "ds = ds[\"train\"].train_test_split(test_size=0.2, seed=42)"
   ]
  },
  {
   "cell_type": "code",
   "execution_count": 6,
   "metadata": {},
   "outputs": [
    {
     "name": "stderr",
     "output_type": "stream",
     "text": [
      "/home/felix/llm/ChatTable/new_env/lib/python3.10/site-packages/transformers/models/auto/modeling_auto.py:1564: FutureWarning: The class `AutoModelWithLMHead` is deprecated and will be removed in a future version. Please use `AutoModelForCausalLM` for causal language models, `AutoModelForMaskedLM` for masked language models and `AutoModelForSeq2SeqLM` for encoder-decoder models.\n",
      "  warnings.warn(\n"
     ]
    }
   ],
   "source": [
    "model = AutoModelWithLMHead.from_pretrained(model_checkpoint)"
   ]
  },
  {
   "cell_type": "code",
   "execution_count": 7,
   "metadata": {},
   "outputs": [
    {
     "data": {
      "text/plain": [
       "str"
      ]
     },
     "execution_count": 7,
     "metadata": {},
     "output_type": "execute_result"
    }
   ],
   "source": [
    "type(ds[\"train\"][1][\"profession\"])"
   ]
  },
  {
   "cell_type": "code",
   "execution_count": 8,
   "metadata": {},
   "outputs": [],
   "source": [
    "# We'll create a tokenizer from model checkpoint\n",
    "tokenizer = AutoTokenizer.from_pretrained(model_checkpoint)#, use_fast=False)\n",
    "\n",
    "# We'll need padding to have same length sequences in a batch\n",
    "tokenizer.pad_token = tokenizer.eos_token\n",
    "\n",
    "# Define a tokenization function that first concatenates text and target\n",
    "def tokenize_function(example):\n",
    "    # concatenate all texts and tokenize as one sample\n",
    "    # merged = str(example[\"profession\"]) + \" \" + str(example[\"url\"]) + \" \" + str(example[\"content\"])\n",
    "    # print(type(merged))\n",
    "    # print(merged)\n",
    "    merged =  example[\"content\"]\n",
    "    batch = tokenizer(merged, padding='max_length', truncation=True, max_length=128)\n",
    "    batch[\"labels\"] = batch[\"input_ids\"].copy()\n",
    "    return batch\n",
    "\n",
    "# def tokenize_function(example):\n",
    "#     # If the fields are lists of strings, join the strings. Otherwise, use the fields as they are.\n",
    "#     profession = ' '.join(example[\"profession\"]) if isinstance(example[\"profession\"], list) else example[\"profession\"]\n",
    "#     url = ' '.join(example[\"url\"]) if isinstance(example[\"url\"], list) else example[\"url\"]\n",
    "#     content = ' '.join(example[\"content\"]) if isinstance(example[\"content\"], list) else example[\"content\"]\n",
    "\n",
    "#     merged = profession + \" \" + url + \" \" + content\n",
    "#     batch = tokenizer(merged, padding='max_length', truncation=True, max_length=2048)\n",
    "#     batch[\"labels\"] = batch[\"input_ids\"].copy()\n",
    "#     return batch\n",
    "\n",
    "# Apply it on our dataset, and remove the text columns\n",
    "tokenized_datasets = ds.map(tokenize_function, batched=True, remove_columns=[\"profession\", \"url\", \"content\"])"
   ]
  },
  {
   "cell_type": "code",
   "execution_count": 9,
   "metadata": {},
   "outputs": [
    {
     "data": {
      "text/plain": [
       "DatasetDict({\n",
       "    train: Dataset({\n",
       "        features: ['input_ids', 'attention_mask', 'labels'],\n",
       "        num_rows: 1122\n",
       "    })\n",
       "    test: Dataset({\n",
       "        features: ['input_ids', 'attention_mask', 'labels'],\n",
       "        num_rows: 281\n",
       "    })\n",
       "})"
      ]
     },
     "execution_count": 9,
     "metadata": {},
     "output_type": "execute_result"
    }
   ],
   "source": [
    "tokenized_datasets"
   ]
  },
  {
   "cell_type": "code",
   "execution_count": 10,
   "metadata": {},
   "outputs": [
    {
     "name": "stdout",
     "output_type": "stream",
     "text": [
      "EisenbahnbetriebsleiterIn \n",
      " EisenbahnbetriebsleiterIn Berufsbereiche: Büro, Marketing, Finanz, Recht, Sicherheit / Handel, Logistik, Verkehr Ausbildungsform: Kurz-/Spezialausbildung Einstiegsgehalt: Gehalt: nicht bekannt Beruf merken als PDF anzeigen Hinweis Die betriebsinterne Ausbildung zu diesem Beruf kann nur im Rahmen eines aufrechten Dienstverhältnisses absolviert werden. Tätigkeitsmerkmale EisenbahnbetriebsleiterInnen leiten und überwachen die sicherheitsrelevanten Prozesse in einem Eisenbahnunternehmen und tragen die Verantwortung für einen sicheren und rechtmäßigen Eisenbahnbetrieb. Sie sind dafür verantwortlich, dass die Züge, Bahnanlagen und Bauwerke einwandfrei funktionieren. Im Rahmen ihrer Tätigkeit kennen EisenbahnbetriebsleiterInnen die allgemein\n"
     ]
    }
   ],
   "source": [
    "# Let's check out one prepared example\n",
    "print(tokenizer.decode(tokenized_datasets[\"train\"][ 1][\"input_ids\"]))"
   ]
  },
  {
   "cell_type": "markdown",
   "metadata": {},
   "source": [
    "# Training"
   ]
  },
  {
   "cell_type": "code",
   "execution_count": 11,
   "metadata": {},
   "outputs": [
    {
     "data": {
      "text/html": [
       "Tracking run with wandb version 0.16.2"
      ],
      "text/plain": [
       "<IPython.core.display.HTML object>"
      ]
     },
     "metadata": {},
     "output_type": "display_data"
    },
    {
     "data": {
      "text/html": [
       "Run data is saved locally in <code>/home/felix/llm/sdc-project-ams/felix/wandb/run-20240116_154722-ed2gmp0f</code>"
      ],
      "text/plain": [
       "<IPython.core.display.HTML object>"
      ]
     },
     "metadata": {},
     "output_type": "display_data"
    },
    {
     "data": {
      "text/html": [
       "Syncing run <strong><a href='https://wandb.ai/fml-team/german-gpt2-ams-finetune/runs/ed2gmp0f' target=\"_blank\">silver-plant-4</a></strong> to <a href='https://wandb.ai/fml-team/german-gpt2-ams-finetune' target=\"_blank\">Weights & Biases</a> (<a href='https://wandb.me/run' target=\"_blank\">docs</a>)<br/>"
      ],
      "text/plain": [
       "<IPython.core.display.HTML object>"
      ]
     },
     "metadata": {},
     "output_type": "display_data"
    },
    {
     "data": {
      "text/html": [
       " View project at <a href='https://wandb.ai/fml-team/german-gpt2-ams-finetune' target=\"_blank\">https://wandb.ai/fml-team/german-gpt2-ams-finetune</a>"
      ],
      "text/plain": [
       "<IPython.core.display.HTML object>"
      ]
     },
     "metadata": {},
     "output_type": "display_data"
    },
    {
     "data": {
      "text/html": [
       " View run at <a href='https://wandb.ai/fml-team/german-gpt2-ams-finetune/runs/ed2gmp0f' target=\"_blank\">https://wandb.ai/fml-team/german-gpt2-ams-finetune/runs/ed2gmp0f</a>"
      ],
      "text/plain": [
       "<IPython.core.display.HTML object>"
      ]
     },
     "metadata": {},
     "output_type": "display_data"
    }
   ],
   "source": [
    "# Start a new wandb run\n",
    "run = wandb.init(project=\"german-gpt2-ams-finetune\", job_type=\"train\")"
   ]
  },
  {
   "cell_type": "code",
   "execution_count": 12,
   "metadata": {},
   "outputs": [
    {
     "name": "stdout",
     "output_type": "stream",
     "text": [
      "Using 1 GPUs.\n"
     ]
    }
   ],
   "source": [
    "import torch\n",
    "\n",
    "# If CUDA is available, use it\n",
    "if torch.cuda.is_available():\n",
    "    device = torch.device('cuda')\n",
    "    torch.backends.cudnn.benchmark = True\n",
    "    print(f\"Using {torch.cuda.device_count()} GPUs.\")\n",
    "else:\n",
    "    device = torch.device('cpu')\n",
    "    print(\"No GPU available, using the CPU instead.\")"
   ]
  },
  {
   "cell_type": "code",
   "execution_count": 13,
   "metadata": {},
   "outputs": [],
   "source": [
    "# Define the training arguments\n",
    "model_name = model_checkpoint.split(\"/\")[-1]\n",
    "training_args = TrainingArguments(\n",
    "    f\"{model_name}-ams-finetuned\",\n",
    "    report_to=\"wandb\", # we need one line to track experiments in wandb\n",
    "    num_train_epochs=2,\n",
    "    logging_steps=1,\n",
    "    evaluation_strategy = \"epoch\",\n",
    "    learning_rate=1e-4,\n",
    "    weight_decay=0.01,\n",
    "    #no_cuda=False, # force cpu use, will be renamed `use_cpu`\n",
    ")"
   ]
  },
  {
   "cell_type": "code",
   "execution_count": 14,
   "metadata": {},
   "outputs": [],
   "source": [
    "# We'll use HF Trainer\n",
    "trainer = Trainer(\n",
    "    model=model,\n",
    "    args=training_args,\n",
    "    train_dataset=tokenized_datasets[\"train\"],\n",
    "    eval_dataset=tokenized_datasets[\"test\"],\n",
    ")"
   ]
  },
  {
   "cell_type": "code",
   "execution_count": 15,
   "metadata": {},
   "outputs": [
    {
     "data": {
      "text/html": [
       "\n",
       "    <div>\n",
       "      \n",
       "      <progress value='282' max='282' style='width:300px; height:20px; vertical-align: middle;'></progress>\n",
       "      [282/282 01:16, Epoch 2/2]\n",
       "    </div>\n",
       "    <table border=\"1\" class=\"dataframe\">\n",
       "  <thead>\n",
       " <tr style=\"text-align: left;\">\n",
       "      <th>Epoch</th>\n",
       "      <th>Training Loss</th>\n",
       "      <th>Validation Loss</th>\n",
       "    </tr>\n",
       "  </thead>\n",
       "  <tbody>\n",
       "    <tr>\n",
       "      <td>1</td>\n",
       "      <td>1.505300</td>\n",
       "      <td>1.332106</td>\n",
       "    </tr>\n",
       "    <tr>\n",
       "      <td>2</td>\n",
       "      <td>1.143700</td>\n",
       "      <td>1.304300</td>\n",
       "    </tr>\n",
       "  </tbody>\n",
       "</table><p>"
      ],
      "text/plain": [
       "<IPython.core.display.HTML object>"
      ]
     },
     "metadata": {},
     "output_type": "display_data"
    },
    {
     "data": {
      "text/plain": [
       "TrainOutput(global_step=282, training_loss=1.3542108461789206, metrics={'train_runtime': 77.2676, 'train_samples_per_second': 29.042, 'train_steps_per_second': 3.65, 'total_flos': 146584829952000.0, 'train_loss': 1.3542108461789206, 'epoch': 2.0})"
      ]
     },
     "execution_count": 15,
     "metadata": {},
     "output_type": "execute_result"
    }
   ],
   "source": [
    "# Let's train!\n",
    "trainer.train()"
   ]
  },
  {
   "cell_type": "code",
   "execution_count": 16,
   "metadata": {},
   "outputs": [],
   "source": [
    "#save the model\n",
    "trainer.save_model(f\"{model_name}-ams-finetuned\")"
   ]
  },
  {
   "cell_type": "code",
   "execution_count": 17,
   "metadata": {},
   "outputs": [],
   "source": [
    "transformers.logging.set_verbosity_error() # suppress tokenizer warnings\n",
    "\n",
    "prefix = \"Hilf bei der Suche nach einem Beruf:\"\n",
    "\n",
    "prompts = [\n",
    "    \"Ich bin 15 Jahre alt, gut im Umgang mit Menschen und möchte gerne einen Beruf erlernen, in dem ich viel mit Menschen zu tun habe.\",\n",
    "    \"Ich bin 30 Jahre alt und mag Tier sehr gerne. Ich möchte gerne einen Beruf erlernen, in dem ich viel mit Tieren zu tun habe.\",\n",
    "    \"Ich bin 19 und möchte etwas technisches machen. Ich bin sehr gut in Mathe und Physik.\",\n",
    "]\n",
    "\n",
    "table = wandb.Table(columns=[\"prompt\", \"generated\", \"input_tokens\", \"generated_tokens\"])\n",
    "\n",
    "for prompt in prompts:\n",
    "    # encode the prompt and generate text until the output length (which includes the context length) reaches 50\n",
    "    input_ids = tokenizer.encode(prefix + prompt, return_tensors='pt').to(device)\n",
    "    output = model.generate(input_ids, max_length=128, num_beams=5, early_stopping=True)\n",
    "    generated = tokenizer.decode(output[0], skip_special_tokens=True)\n",
    "    table.add_data(prompt, generated, len(input_ids[0]), len(output[0]))\n",
    "    \n",
    "wandb.log({\"generated\": table})"
   ]
  },
  {
   "cell_type": "code",
   "execution_count": null,
   "metadata": {},
   "outputs": [],
   "source": [
    "wandb.finish()"
   ]
  }
 ],
 "metadata": {
  "kernelspec": {
   "display_name": "new_env",
   "language": "python",
   "name": "python3"
  },
  "language_info": {
   "codemirror_mode": {
    "name": "ipython",
    "version": 3
   },
   "file_extension": ".py",
   "mimetype": "text/x-python",
   "name": "python",
   "nbconvert_exporter": "python",
   "pygments_lexer": "ipython3",
   "version": "3.10.12"
  }
 },
 "nbformat": 4,
 "nbformat_minor": 2
}
