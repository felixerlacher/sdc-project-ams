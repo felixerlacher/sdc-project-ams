{
 "cells": [
  {
   "cell_type": "code",
   "execution_count": null,
   "metadata": {},
   "outputs": [
    {
     "name": "stdout",
     "output_type": "stream",
     "text": [
      "Dataset generation complete.\n"
     ]
    }
   ],
   "source": [
    "import json\n",
    "import spacy\n",
    "from transformers import pipeline\n",
    "\n",
    "# Load spaCy model\n",
    "nlp = spacy.load(\"de_core_news_sm\")  # Use a German spaCy model\n",
    "\n",
    "# Load data from JSON file\n",
    "with open(\"chunks.json\", \"r\", encoding=\"utf-8\") as file:\n",
    "    data_list = json.load(file)\n",
    "\n",
    "# Generate dataset\n",
    "dataset = []\n",
    "\n",
    "# Process each entry in the JSON file\n",
    "for data in data_list:\n",
    "    # Assuming the JSON structure: {\"id\": ..., \"profession\": ..., \"text\": ...}\n",
    "    profession = data.get(\"profession\", \"\")\n",
    "    text = data.get(\"text\", \"\")\n",
    "\n",
    "    # Change Einstiegsgehalt lt. KV: to Einstiegsgehalt lt. KV -\n",
    "    text = text.replace(\"Einstiegsgehalt lt. KV:\\n\", \"Einstiegsgehalt lt. KV - \")\n",
    "    #Same for BMS and BHS\n",
    "    text = text.replace(\"BMS:\\n\", \"BMS - \")\n",
    "    text = text.replace(\"BHS:\\n\", \"BHS - \")\n",
    "    # # Remove Einstiegsgehalt lt. KV: and BMS: from all texts\n",
    "    # text = text.replace(\"Einstiegsgehalt lt. KV:\", \"\")\n",
    "    # text = text.replace(\"BMS:\", \"\")\n",
    "\n",
    "    # Tokenize and extract sections using spaCy (assuming sections are separated by '\\n')\n",
    "    sections = [section.strip() for section in text.split('\\n') if section.strip()]\n",
    "\n",
    "    # Combine sections that logically belong together\n",
    "    combined_sections = []\n",
    "    current_section = \"\"\n",
    "\n",
    "    for section in sections:\n",
    "        if current_section and current_section.endswith(\":\"):\n",
    "            # Combine with the next section\n",
    "            combined_sections.append(current_section + \" \" + section)\n",
    "            current_section = \"\"\n",
    "        else:\n",
    "            # Start a new section\n",
    "            current_section = section\n",
    "\n",
    "    # Generate contextually meaningful questions for each combined section\n",
    "    for i, combined_section in enumerate(combined_sections):\n",
    "        # Customize this logic based on your specific content\n",
    "        if \"Ausbildungsform:\" in combined_section:\n",
    "            question = f\"Was ist die Ausbildungsform für einen/eine {profession}?\"\n",
    "        if \"Gehalt:\" in combined_section:\n",
    "            question = f\"Was ist das Gehalt eines/einer {profession}?\"\n",
    "        elif \"Berufsbereiche:\" in combined_section:\n",
    "            question = f\"In welchen Berufsbereichen arbeitet ein/eine {profession}?\"\n",
    "        elif combined_section.startswith(\"*\"):\n",
    "            question = f\"Was sind besondere Aspekte im Zusammenhang mit einem/einer {profession}?\"\n",
    "        else:\n",
    "            # If no specific pattern is detected, use a generic question\n",
    "            question = f\"Welche zusätzlichen Infos gibt es zu einer/einem {profession}?\"\n",
    "\n",
    "        dataset.append({\"question\": question, \"answer\": combined_section})\n",
    "\n",
    "# Save the dataset to a JSON file\n",
    "with open(\"output_dataset_6.json\", \"w\", encoding=\"utf-8\") as output_file:\n",
    "    json.dump(dataset, output_file, ensure_ascii=False, indent=2)\n",
    "\n",
    "print(\"Dataset generation complete.\")\n"
   ]
  },
  {
   "cell_type": "code",
   "execution_count": 36,
   "metadata": {},
   "outputs": [
    {
     "name": "stdout",
     "output_type": "stream",
     "text": [
      "Combining answers complete.\n"
     ]
    }
   ],
   "source": [
    "import json\n",
    "from collections import defaultdict\n",
    "\n",
    "# Load the generated dataset from output_dataset.json\n",
    "with open(\"output_dataset_6.json\", \"r\", encoding=\"utf-8\") as file:\n",
    "    dataset = json.load(file)\n",
    "    \n",
    "# Create a defaultdict to store answers for each question\n",
    "grouped_answers = defaultdict(list)\n",
    "\n",
    "# Iterate through the dataset and group answers by question\n",
    "for entry in dataset:\n",
    "    if entry[\"answer\"] == \"Einstiegsgehalt: Gehalt:\":\n",
    "        entry[\"answer\"] = \"Zu diesem Beruf ist leider kein Gehalt angeführt\"\n",
    "    question = entry[\"question\"]\n",
    "    answer = entry[\"answer\"]\n",
    "    grouped_answers[question].append(answer)\n",
    "\n",
    "# Create a new list to store combined entries\n",
    "combined_dataset = []\n",
    "\n",
    "# Iterate through grouped answers and create combined entries\n",
    "for question, answers in grouped_answers.items():\n",
    "    combined_entry = {\"question\": question, \"combined_answers\": \" \".join(answers)}\n",
    "    combined_dataset.append(combined_entry)\n",
    "\n",
    "\n",
    "\n",
    "\n",
    "# Save the combined dataset to a new JSON file\n",
    "with open(\"combined_questions_3.json\", \"w\", encoding=\"utf-8\") as output_file:\n",
    "    json.dump(combined_dataset, output_file, ensure_ascii=False, indent=2)\n",
    "\n",
    "print(\"Combining answers complete.\")\n"
   ]
  }
 ],
 "metadata": {
  "kernelspec": {
   "display_name": "thesis",
   "language": "python",
   "name": "python3"
  },
  "language_info": {
   "codemirror_mode": {
    "name": "ipython",
    "version": 3
   },
   "file_extension": ".py",
   "mimetype": "text/x-python",
   "name": "python",
   "nbconvert_exporter": "python",
   "pygments_lexer": "ipython3",
   "version": "3.9.18"
  }
 },
 "nbformat": 4,
 "nbformat_minor": 2
}
